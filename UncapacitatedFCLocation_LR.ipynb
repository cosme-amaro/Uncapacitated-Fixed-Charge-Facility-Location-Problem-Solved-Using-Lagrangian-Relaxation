{
 "cells": [
  {
   "cell_type": "markdown",
   "metadata": {},
   "source": [
    "# Uncapacitated Facility "
   ]
  },
  {
   "cell_type": "markdown",
   "metadata": {},
   "source": [
    "## Importing libraries"
   ]
  },
  {
   "cell_type": "code",
   "execution_count": 1,
   "metadata": {},
   "outputs": [],
   "source": [
    "from docplex.mp.model import Model\n",
    "import numpy as np\n",
    "import math\n",
    "import time\n",
    "import heapq\n",
    "import random\n",
    "import matplotlib.pyplot as plt"
   ]
  },
  {
   "cell_type": "markdown",
   "metadata": {},
   "source": [
    "## Functions for Lagrangian Relaxation"
   ]
  },
  {
   "cell_type": "markdown",
   "metadata": {},
   "source": [
    "#### Calculating lower bound, X, Y and V value for Relaxed Constraint"
   ]
  },
  {
   "cell_type": "code",
   "execution_count": 2,
   "metadata": {},
   "outputs": [],
   "source": [
    "def LRP(lda, num_facilities, J, I, d, h, f, alpha): \n",
    "    \n",
    "    # Calculate V value \n",
    "    V = [0]*num_facilities\n",
    "    for j in range(len(J)): \n",
    "        count = 0\n",
    "        for i in range(len(I)): \n",
    "            count += min(0, alpha*h[i]*d[i][j] - lda[i])\n",
    "        V[j] = count + f[j]\n",
    "        \n",
    "    # Calculate x\n",
    "    x = [0]*num_facilities\n",
    "    for i in range(len(V)): \n",
    "        if V[i] < 0: \n",
    "            x[i] = 1\n",
    "        else: \n",
    "            x[i] = 0\n",
    "            \n",
    "    # Calculate y\n",
    "    y = [[0] * num_facilities for i in range(num_facilities)]\n",
    "    for i in range(len(I)): \n",
    "        for j in range(len(J)): \n",
    "            if x[j] == 1 and alpha*h[i]*d[i][j] - lda[i] < 0: \n",
    "                y[i][j] = 1\n",
    "            else: \n",
    "                y[i][j] = 0\n",
    "                \n",
    "    # Calculate lower bound with relaxed constraint\n",
    "    lb_ = sum(f[j]*x[j] for j in range(len(J))) + sum((alpha*h[i]*d[i][j] - lda[i])*y[i][j] for j in range(len(J)) for i in range(len(I))) + sum(lda[i] for i in range(len(I)))\n",
    "\n",
    "    return lb_, x, y, V"
   ]
  },
  {
   "cell_type": "markdown",
   "metadata": {},
   "source": [
    "#### Verify violations in the constraints \n",
    "- Add a facility when the relaxed solution does not include any one (The sum of x = 0)\n",
    "- Assign a supplier to the facilities with no covered demand (The sum of Y_i = 0)\n",
    "- Assign the closest supplier to the facility with more than one supplier (The sum of Y_i > 1)"
   ]
  },
  {
   "cell_type": "code",
   "execution_count": 3,
   "metadata": {},
   "outputs": [],
   "source": [
    "def getViolatedConstraints(x_, y_, V_, num_facilities, I, d): \n",
    "    # Add a facility if no facilities where located using facility with the lowest V value \n",
    "    if sum(x_) <= 0: \n",
    "        x_[np.argmin(V_)] = 1\n",
    "        \n",
    "    # Index x with facilities \n",
    "    index = [i for i in range(len(x_)) if x_[i] == 1 ]\n",
    "\n",
    "    # Store indexes for facilities with no demand satisfied and facilities with more than 2 suppliers\n",
    "    violated_lambda_null = []\n",
    "    violated_lambda_extra = []\n",
    "\n",
    "    # Assign supplier to facilities with no demand covered to their neariest supplier or more than 2 suppliers \n",
    "    for i in range(len(I)): \n",
    "        \n",
    "        # If no demand is satisfied, assign to nearest supplier\n",
    "        if sum(y_[i]) <= 0: \n",
    "            minimum_index = None\n",
    "            minimum_distance = 100000\n",
    "            for j in index: \n",
    "                if  d[i][j] < minimum_distance: \n",
    "                    minimum_index = j\n",
    "                    minimum_distance = d[i][j]\n",
    "            violated_lambda_null.append(i)\n",
    "        \n",
    "            y_[i][minimum_index] = 1\n",
    "        \n",
    "        # If more than 2 suppliers, assign to nearest supplier\n",
    "        if sum(y_[i]) >= 2:\n",
    "            empty_list = [0] * num_facilities\n",
    "            minimum_index = None\n",
    "            minimum_distance = 100000\n",
    "            for j in index: \n",
    "                if  d[i][j] < minimum_distance: \n",
    "                    minimum_index = j\n",
    "                    minimum_distance = d[i][j]\n",
    "                    \n",
    "            violated_lambda_extra.append(i)\n",
    "                    \n",
    "            empty_list[minimum_index] = 1\n",
    "            y_[i] = empty_list\n",
    "            \n",
    "    return violated_lambda_null, violated_lambda_extra, x_, y_, V_"
   ]
  },
  {
   "cell_type": "markdown",
   "metadata": {},
   "source": [
    "#### Get upper bound with the original problem "
   ]
  },
  {
   "cell_type": "code",
   "execution_count": 4,
   "metadata": {},
   "outputs": [],
   "source": [
    "def solveFixed(x_, y_, f, d, I, J, alpha, h): \n",
    "    return sum(f[j]*x_[j] for j in range(len(J))) + alpha*sum(h[i]*d[i][j]*y_[i][j] for i in range(len(I)) for j in range(len(J)))"
   ]
  },
  {
   "cell_type": "markdown",
   "metadata": {},
   "source": [
    "#### Update lambda for the facilities with the violated constraints"
   ]
  },
  {
   "cell_type": "code",
   "execution_count": 5,
   "metadata": {},
   "outputs": [],
   "source": [
    "def update_lambda(violated_lambda_null, violated_lambda_extra, lr_alpha, ub, lb_, y, I, J, lda): \n",
    "    lda_ = lda\n",
    "    \n",
    "    # Calculate tn value \n",
    "    tn = lr_alpha*(ub-lb_)/sum(sum(y[i][j]-1 for i in range(len(I)))**2 for j in range(len(J)))\n",
    "    \n",
    "    # Substract from the lambda, the tn value to facilities with more than 2 suppliers\n",
    "    if len(violated_lambda_extra) > 0:\n",
    "        for i in violated_lambda_extra: \n",
    "            lda_[i] = lda_[i] - tn\n",
    "        \n",
    "    # Add from lambda, the tn value to facilities with no suppliers \n",
    "    if len(violated_lambda_null) > 0:\n",
    "        for i in violated_lambda_null: \n",
    "            lda_[i] = lda_[i] + tn\n",
    "            \n",
    "    return lr_alpha, lda_"
   ]
  },
  {
   "cell_type": "markdown",
   "metadata": {},
   "source": [
    "#### Lagrangian Implementation\n"
   ]
  },
  {
   "cell_type": "code",
   "execution_count": 6,
   "metadata": {},
   "outputs": [],
   "source": [
    "def LRP_solver(J, I, d, h, f, alpha, lda, num_facilities, max_iter = 10000, max_nth = 8): \n",
    "    start_time = time.time()\n",
    "    \n",
    "    # Initializing variables \n",
    "    ub = float('inf') \n",
    "    lb = float('-inf')\n",
    "    iter = 0\n",
    "    lr_alpha = 2 # Alpha learning rate \n",
    "    lda_ = lda \n",
    "\n",
    "    nth_counter = 0 # Counter for lr_alpha update \n",
    "\n",
    "    # Historic upper and lower bound storage for plotting \n",
    "    list_ub = [] \n",
    "    list_lb = []\n",
    "\n",
    "    while ub > lb: \n",
    "        \n",
    "        # Get lower bound, x, y and V values using the relaxed constraint\n",
    "        lb_, x, y, V = LRP(lda_, num_facilities, J, I, d, h, f, alpha)\n",
    "        \n",
    "        # Get violated constraints and update x and y values for the fixed problem implementation \n",
    "        violated_lambda_null, violated_lambda_extra, x, y, V = getViolatedConstraints(x, y, V, num_facilities, I, d)\n",
    "        \n",
    "        # Get upper bound for the fixed problem\n",
    "        ub_ = solveFixed(x, y, f, d, I, J, alpha, h)\n",
    "        \n",
    "        # Update the nth_counter when the new lower bound is better than the current lower bound\n",
    "        if lb_ > lb: \n",
    "            nth_counter = 0\n",
    "        else:\n",
    "            nth_counter += 1\n",
    "            \n",
    "        # Update lambda values\n",
    "        if nth_counter < max_nth: \n",
    "            dummie, lda_ = update_lambda(violated_lambda_null, violated_lambda_extra, lr_alpha, ub_, lb_, y, I, J, lda_)\n",
    "            \n",
    "        # Update learning rate alpha if the lower bound has not improved in the nth iteration\n",
    "        else: \n",
    "            lr_alpha = lr_alpha / 2\n",
    "            dummie, lda_ = update_lambda(violated_lambda_null, violated_lambda_extra, lr_alpha, ub_, lb_, y, I, J, lda_)\n",
    "            nth_counter = 0 \n",
    "\n",
    "        # Update upper and lower bound values if they improve \n",
    "        if lb_ > lb: \n",
    "            lb = lb_\n",
    "        \n",
    "        if ub_ < ub: \n",
    "            ub = ub_\n",
    "        \n",
    "        # Store upper and lower bound values for plotting\n",
    "        list_ub.append(ub)\n",
    "        list_lb.append(lb)\n",
    "        \n",
    "        # Update iteration counter\n",
    "        iter += 1\n",
    "               \n",
    "        # Stop code after reaching max_iterations  \n",
    "        if iter >= max_iter: \n",
    "            break \n",
    "        \n",
    "        # Stop code when the difference between the upper and lower bound is less than 0.0001\n",
    "        if np.std([ub, lb]) < 0.0001: \n",
    "            break \n",
    "        \n",
    "    # Print results \n",
    "    print('Time: ', time.time() - start_time)\n",
    "    print('Objective Function: ', lb)\n",
    "    print('Best Lower Bound: ', lb)\n",
    "    print('Best Upper Bound: ', ub)\n",
    "    print('Number of Iterations: ', iter)\n",
    "    print('Facilities are located in: ', [J[i] for i in range(len(x)) if x[i] == 1 ])\n",
    "\n",
    "    # Plot upper and lower bound values\n",
    "    plt.plot(np.log(list_ub), label = 'Upper Bound')\n",
    "    plt.plot(np.log(list_lb), label = 'Lower Bound')\n",
    "    plt.show()"
   ]
  },
  {
   "cell_type": "markdown",
   "metadata": {},
   "source": [
    "## Functions for large problem"
   ]
  },
  {
   "cell_type": "markdown",
   "metadata": {},
   "source": [
    "#### Creation of random distance matrix "
   ]
  },
  {
   "cell_type": "code",
   "execution_count": 7,
   "metadata": {},
   "outputs": [],
   "source": [
    "# Create random distance matrix using Dikjstra algorithm\n",
    "def get_dist_matrix(num_facilities_): \n",
    "    dist_matrix = np.zeros((num_facilities_, num_facilities_))\n",
    "    for i in range(num_facilities_): \n",
    "        for j in range(num_facilities_): \n",
    "            if i == j: \n",
    "                dist_matrix[i][j] = 0\n",
    "                break \n",
    "            else: \n",
    "                dist_matrix[i][j] = dist_matrix[j][i] = random.randint(1, 100)\n",
    "\n",
    "    return dist_matrix.tolist()"
   ]
  },
  {
   "cell_type": "markdown",
   "metadata": {},
   "source": [
    "#### Display of matrix "
   ]
  },
  {
   "cell_type": "code",
   "execution_count": 8,
   "metadata": {},
   "outputs": [],
   "source": [
    "def print_matrix(matrix): \n",
    "    for i in range(len(matrix)): \n",
    "        print('[', end = '')\n",
    "        for j in range(len(matrix[0])): \n",
    "            print(matrix[i][j], end = \", \")       \n",
    "        print('],', end='\\n')    "
   ]
  },
  {
   "cell_type": "markdown",
   "metadata": {},
   "source": [
    "## Solver using CPLEX"
   ]
  },
  {
   "cell_type": "markdown",
   "metadata": {},
   "source": [
    "#### Definition of CPLEX solver"
   ]
  },
  {
   "cell_type": "code",
   "execution_count": 9,
   "metadata": {},
   "outputs": [],
   "source": [
    "def solve_CPLEX(J, I, f, h, d, alpha):\n",
    "    start_time = time.time()\n",
    "    \n",
    "    #Create an empty model\n",
    "    mod=Model(name=\"LRP\")\n",
    "    \n",
    "    #Decision Variables \n",
    "    \n",
    "    # Open suppliers \n",
    "    x = {}\n",
    "    for j in range(len(J)): \n",
    "        x[j] = mod.binary_var(name=\"x_\"+str(j)) \n",
    "      \n",
    "    # Demand assignment to suppliers \n",
    "    y = {}\n",
    "    for j in range(len(J)): \n",
    "        for i in range(len(I)):\n",
    "            y[i,j] = mod.continuous_var(name=\"y_\"+str(i)+\"_\"+str(j),lb=0,ub=1)\n",
    "\n",
    "    #Add constraints\n",
    "    \n",
    "    #Constraint to relax\n",
    "    for i in range(len(I)):\n",
    "        mod.add_constraint(sum(y[i,j] for j in range(len(J)))==1)\n",
    "        \n",
    "    #States that the demand at node i can not be asigned to a facility i forall I unless the facility j is open.\n",
    "    for i in range(len(I)):\n",
    "        for j in range(len(J)):\n",
    "            mod.add_constraint(y[i,j] <= x[j])\n",
    "            \n",
    "    #Objective Function\n",
    "    func_=mod.sum(f[j]*x[j] for j in range(len(J)))+(alpha*(mod.sum(h[i]*d[i][j]*y[i,j] for i in range(len(I)) for j in range(len(J)))))\n",
    "    mod.minimize(func_)\n",
    "    \n",
    "    #Solve the model\n",
    "    sol=mod.solve()\n",
    "    \n",
    "    #Print the solution\n",
    "    print(\"Time: \", time.time() - start_time)\n",
    "    print(\"Objective Function Value: \", sol.get_objective_value())\n",
    "    print(\"Facilities are located in: \", [J[i] for i in range(len(J)) if x[i].solution_value == 1])"
   ]
  },
  {
   "cell_type": "markdown",
   "metadata": {},
   "source": [
    "## Solution for book's problem"
   ]
  },
  {
   "cell_type": "markdown",
   "metadata": {},
   "source": [
    "#### Definition of variables"
   ]
  },
  {
   "cell_type": "code",
   "execution_count": 10,
   "metadata": {},
   "outputs": [],
   "source": [
    "num_facilities = 12\n",
    "\n",
    "f= [100, 200, 130, 150, 225, 175, 190, 210, 165, 230, 125, 215] #fixed cost at node i\n",
    "h= [15, 10, 12, 18, 5, 24, 11, 16, 13, 22, 19, 20] #demand at node i\n",
    "\n",
    "# Distance matrix\n",
    "d = [[0, 15, 37, 55, 24, 60, 18, 33, 48, 40, 58, 67],\n",
    " [15, 0, 22, 40, 38, 52, 33, 48, 42, 55, 61, 61],\n",
    " [37, 22, 0, 18, 16, 30, 41, 28, 20, 58, 39, 39],\n",
    " [55, 40, 18, 0, 34, 12, 59, 46, 24, 62, 43, 34],\n",
    " [24, 38, 16, 34, 0, 36, 25, 12, 24, 47, 37, 43],\n",
    " [60, 52, 30, 12, 36, 0, 57, 42, 12, 50, 31, 22],\n",
    " [18, 33, 41, 59, 25, 57, 0, 15, 45, 22, 40, 61],\n",
    " [33, 48, 28, 46, 12, 42, 15, 0, 30, 37, 25, 46],\n",
    " [48, 42, 20, 24, 24, 12, 45, 30, 0, 38, 19, 19],\n",
    " [40, 55, 58, 62, 47, 50, 22, 37, 38, 0, 19, 40],\n",
    " [58, 61, 39, 43, 37, 31, 40, 25, 19, 19, 0, 21],\n",
    " [67, 61, 39, 34, 43, 22, 61, 46, 19, 40, 21, 0]]\n",
    "\n",
    "alpha = 0.35 #transportation cost per distance per unit\n",
    "\n",
    "J = I = ['A','B','C','D','E','F','G','H','I','J','K','L'] #set of nodes\n",
    "\n",
    "avg_demand = sum(h) / num_facilities\n",
    "avg_fixed_cost = sum(f) / num_facilities\n",
    "\n",
    "# Initialization of lambda \n",
    "lda_ = [10 * avg_demand + 10 * avg_fixed_cost] * num_facilities\n"
   ]
  },
  {
   "cell_type": "markdown",
   "metadata": {},
   "source": [
    "#### Solution using CPLEX"
   ]
  },
  {
   "cell_type": "code",
   "execution_count": 11,
   "metadata": {},
   "outputs": [
    {
     "name": "stdout",
     "output_type": "stream",
     "text": [
      "Time:  0.0695180892944336\n",
      "Objective Function Value:  1234.95\n",
      "Facilities are located in:  ['A', 'D', 'K']\n"
     ]
    }
   ],
   "source": [
    "solve_CPLEX(J, I, f, h, d, alpha)"
   ]
  },
  {
   "cell_type": "markdown",
   "metadata": {},
   "source": [
    "#### Solution using Lagrangian Approach"
   ]
  },
  {
   "cell_type": "code",
   "execution_count": 12,
   "metadata": {},
   "outputs": [
    {
     "name": "stdout",
     "output_type": "stream",
     "text": [
      "Time:  0.6351368427276611\n",
      "Objective Function:  1234.9498000046997\n",
      "Best Lower Bound:  1234.9498000046997\n",
      "Best Upper Bound:  1234.9499999999998\n",
      "Number of Iterations:  4034\n",
      "Facilities are located in:  ['A', 'D', 'K']\n"
     ]
    },
    {
     "name": "stderr",
     "output_type": "stream",
     "text": [
      "C:\\Users\\cosme\\AppData\\Local\\Temp\\ipykernel_14432\\2099868866.py:76: RuntimeWarning: invalid value encountered in log\n",
      "  plt.plot(np.log(list_lb), label = 'Lower Bound')\n"
     ]
    },
    {
     "data": {
      "image/png": "[encoded data removed]",
      "text/plain": [
       "<Figure size 640x480 with 1 Axes>"
      ]
     },
     "metadata": {},
     "output_type": "display_data"
    }
   ],
   "source": [
    "LRP_solver(J, I, d, h, f, alpha, lda_, num_facilities, max_iter = 10000, max_nth = 8)"
   ]
  },
  {
   "cell_type": "markdown",
   "metadata": {},
   "source": [
    "## Solution for a large problem\n",
    "We are limited to 30 nodes to use CPLEX solver due to quantity restrictions in the library for variables and constraints (up to 1000 each)"
   ]
  },
  {
   "cell_type": "markdown",
   "metadata": {},
   "source": [
    "#### Creation of variables"
   ]
  },
  {
   "cell_type": "code",
   "execution_count": 13,
   "metadata": {},
   "outputs": [],
   "source": [
    "num_facilities = int(input('Determine the number of facilities: ')) # Number of facilities\n",
    "\n",
    "f = [np.random.randint(100, 250) for i in range(num_facilities)] # Fixed cost at node i\n",
    "h = [np.random.randint(1, 50) for i in range(num_facilities)] # Demand at node i\n",
    "\n",
    "alpha = float(input('Determine the value of alpha: ')) # Transportation cost per distance per unit\n",
    "\n",
    "J = I = np.arange(num_facilities).tolist() # Set of nodes\n",
    "\n",
    "# Definition of initial lambda \n",
    "avg_demand = sum(h) / num_facilities\n",
    "avg_fixed_cost = sum(f) / num_facilities\n",
    "lda = [10 * avg_demand + 10 * avg_fixed_cost] * num_facilities \n",
    "\n",
    "# Distance matrix creation \n",
    "d = get_dist_matrix(num_facilities)"
   ]
  },
  {
   "cell_type": "markdown",
   "metadata": {},
   "source": [
    "#### CPLEX solution "
   ]
  },
  {
   "cell_type": "code",
   "execution_count": 14,
   "metadata": {},
   "outputs": [
    {
     "name": "stdout",
     "output_type": "stream",
     "text": [
      "Time:  0.03202342987060547\n",
      "Objective Function Value:  1598.4\n",
      "Facilities are located in:  [0, 3, 4, 5, 8, 9, 12]\n"
     ]
    }
   ],
   "source": [
    "solve_CPLEX(J, I, f, h, d, alpha)"
   ]
  },
  {
   "cell_type": "markdown",
   "metadata": {},
   "source": [
    "#### Lagrangian solution "
   ]
  },
  {
   "cell_type": "code",
   "execution_count": 15,
   "metadata": {},
   "outputs": [
    {
     "name": "stdout",
     "output_type": "stream",
     "text": [
      "Time:  3.320309638977051\n",
      "Objective Function:  1508.4951396386768\n",
      "Best Lower Bound:  1508.4951396386768\n",
      "Best Upper Bound:  1602.7\n",
      "Number of Iterations:  10000\n",
      "Facilities are located in:  [0, 3, 4, 5, 8, 9, 16]\n"
     ]
    },
    {
     "name": "stderr",
     "output_type": "stream",
     "text": [
      "C:\\Users\\cosme\\AppData\\Local\\Temp\\ipykernel_14432\\2099868866.py:76: RuntimeWarning: invalid value encountered in log\n",
      "  plt.plot(np.log(list_lb), label = 'Lower Bound')\n"
     ]
    },
    {
     "data": {
      "image/png": "[encoded data removed]",
      "text/plain": [
       "<Figure size 640x480 with 1 Axes>"
      ]
     },
     "metadata": {},
     "output_type": "display_data"
    }
   ],
   "source": [
    "LRP_solver(J, I, d, h, f, alpha, lda, num_facilities, max_iter = 10000, max_nth = 8)"
   ]
  }
 ],
 "metadata": {
  "kernelspec": {
   "display_name": "Python 3",
   "language": "python",
   "name": "python3"
  },
  "language_info": {
   "codemirror_mode": {
    "name": "ipython",
    "version": 3
   },
   "file_extension": ".py",
   "mimetype": "text/x-python",
   "name": "python",
   "nbconvert_exporter": "python",
   "pygments_lexer": "ipython3",
   "version": "3.11.2"
  }
 },
 "nbformat": 4,
 "nbformat_minor": 2
}
